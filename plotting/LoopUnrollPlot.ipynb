{
 "cells": [
  {
   "cell_type": "code",
   "execution_count": 1,
   "id": "hollywood-logistics",
   "metadata": {},
   "outputs": [],
   "source": [
    "%load_ext autoreload\n",
    "%autoreload 2"
   ]
  },
  {
   "cell_type": "code",
   "execution_count": 2,
   "id": "mysterious-ontario",
   "metadata": {},
   "outputs": [],
   "source": [
    "#%matplotlib widget\n",
    "import matplotlib.pyplot as plt\n",
    "from matplotlib.lines import Line2D\n",
    "import pandas as pd\n",
    "import numpy as np\n",
    "import re\n",
    "from Color import *\n",
    "\n",
    "# Matplotlib font configuration\n",
    "from MatplotlibFonts import *\n",
    "\n",
    "# Change the font size\n",
    "rcParams.update({\"font.size\": 12})"
   ]
  },
  {
   "cell_type": "code",
   "execution_count": 3,
   "id": "broadband-trust",
   "metadata": {},
   "outputs": [],
   "source": [
    "RESULT_DIR='../benchmarks/results'"
   ]
  },
  {
   "cell_type": "code",
   "execution_count": 4,
   "id": "chief-immunology",
   "metadata": {},
   "outputs": [],
   "source": [
    "# Benchmarks in order\n",
    "Benchmarks = [\n",
    "    'sha',\n",
    "    'aes',\n",
    "    'coremark'\n",
    "]\n",
    "\n",
    "# Configurations in order\n",
    "Configurations = [\n",
    "    'loop-unroll-1',\n",
    "    'loop-unroll-2',\n",
    "    'loop-unroll-4',\n",
    "    'loop-unroll-6',\n",
    "    'loop-unroll-8',\n",
    "    'loop-unroll-10',\n",
    "    'loop-unroll-15',\n",
    "    'loop-unroll-20',\n",
    "    'loop-unroll-25',\n",
    "    'loop-unroll-30',\n",
    "    'loop-unroll-35',\n",
    "]\n",
    "from BenchmarkConfiguration import *"
   ]
  },
  {
   "cell_type": "code",
   "execution_count": 5,
   "id": "polished-score",
   "metadata": {},
   "outputs": [],
   "source": [
    "# Load the benchmarks\n",
    "def load_benchmark(bench):\n",
    "    file = RESULT_DIR + '/raw/' + bench + '-results-table-raw.csv'\n",
    "    return pd.read_csv(file).set_index('Configuration').loc[Configurations]\n",
    "\n",
    "df = {}\n",
    "for bench in Benchmarks:\n",
    "    df[bench] = load_benchmark(bench)"
   ]
  },
  {
   "cell_type": "code",
   "execution_count": 6,
   "id": "laden-friend",
   "metadata": {},
   "outputs": [
    {
     "data": {
      "text/plain": [
       "Configuration\n",
       "loop-unroll-1     3741\n",
       "loop-unroll-2     1382\n",
       "loop-unroll-4     1024\n",
       "loop-unroll-6     1024\n",
       "loop-unroll-8     1024\n",
       "loop-unroll-10    1024\n",
       "loop-unroll-15    1024\n",
       "loop-unroll-20    1042\n",
       "loop-unroll-25    1024\n",
       "loop-unroll-30    1024\n",
       "loop-unroll-35    1024\n",
       "Name: IR-checkpoints, dtype: int64"
      ]
     },
     "execution_count": 6,
     "metadata": {},
     "output_type": "execute_result"
    }
   ],
   "source": [
    "df['aes']['IR-checkpoints']"
   ]
  },
  {
   "cell_type": "code",
   "execution_count": 7,
   "id": "figured-blank",
   "metadata": {},
   "outputs": [],
   "source": [
    "# Reindex to unroll numbers\n",
    "dfp = {}\n",
    "dfp['Overhead'] = pd.DataFrame()\n",
    "dfp['Execution'] = pd.DataFrame()\n",
    "dfp['Cycles'] = pd.DataFrame()\n",
    "dfp['Checkpoints'] = pd.DataFrame()\n",
    "dfp['IR-checkpoints'] = pd.DataFrame()\n",
    "dfp['Spill-checkpoints'] = pd.DataFrame()\n",
    "\n",
    "for bench in Benchmarks:\n",
    "    dfp['Overhead'][bench] = 100.0+df[bench]['Overhead-baseline-%']\n",
    "    dfp['Execution'][bench] = df[bench]['Execution']\n",
    "    dfp['Cycles'][bench] = df[bench]['Cycles']/df[bench]['Cycles']['loop-unroll-1']*100\n",
    "    dfp['Checkpoints'][bench] = df[bench]['Checkpoints']/df[bench]['Checkpoints']['loop-unroll-1']*100\n",
    "    dfp['IR-checkpoints'][bench] = df[bench]['IR-checkpoints']/df[bench]['Checkpoints']['loop-unroll-1']*100\n",
    "    dfp['Spill-checkpoints'][bench] = df[bench]['Spill-checkpoints']/df[bench]['Checkpoints']['loop-unroll-1']*100"
   ]
  },
  {
   "cell_type": "code",
   "execution_count": 8,
   "id": "otherwise-cream",
   "metadata": {},
   "outputs": [],
   "source": [
    "indexmap = {}\n",
    "for config in Configurations:\n",
    "    try:\n",
    "        indexmap[config] = int(re.search('loop-unroll-(.+)', config)[1])\n",
    "    except:\n",
    "        pass\n",
    "\n",
    "dfp['Overhead'].rename(index=indexmap, inplace=True)\n",
    "dfp['Execution'].rename(index=indexmap, inplace=True)\n",
    "dfp['Cycles'].rename(index=indexmap, inplace=True)\n",
    "dfp['Checkpoints'].rename(index=indexmap, inplace=True)\n",
    "dfp['IR-checkpoints'].rename(index=indexmap, inplace=True)\n",
    "dfp['Spill-checkpoints'].rename(index=indexmap, inplace=True)"
   ]
  },
  {
   "cell_type": "code",
   "execution_count": 9,
   "id": "settled-causing",
   "metadata": {},
   "outputs": [
    {
     "data": {
      "text/html": [
       "<div>\n",
       "<style scoped>\n",
       "    .dataframe tbody tr th:only-of-type {\n",
       "        vertical-align: middle;\n",
       "    }\n",
       "\n",
       "    .dataframe tbody tr th {\n",
       "        vertical-align: top;\n",
       "    }\n",
       "\n",
       "    .dataframe thead th {\n",
       "        text-align: right;\n",
       "    }\n",
       "</style>\n",
       "<table border=\"1\" class=\"dataframe\">\n",
       "  <thead>\n",
       "    <tr style=\"text-align: right;\">\n",
       "      <th></th>\n",
       "      <th>sha</th>\n",
       "      <th>aes</th>\n",
       "      <th>coremark</th>\n",
       "    </tr>\n",
       "    <tr>\n",
       "      <th>Configuration</th>\n",
       "      <th></th>\n",
       "      <th></th>\n",
       "      <th></th>\n",
       "    </tr>\n",
       "  </thead>\n",
       "  <tbody>\n",
       "    <tr>\n",
       "      <th>1</th>\n",
       "      <td>100.00</td>\n",
       "      <td>93.45</td>\n",
       "      <td>98.56</td>\n",
       "    </tr>\n",
       "    <tr>\n",
       "      <th>2</th>\n",
       "      <td>66.21</td>\n",
       "      <td>58.02</td>\n",
       "      <td>82.57</td>\n",
       "    </tr>\n",
       "    <tr>\n",
       "      <th>4</th>\n",
       "      <td>65.26</td>\n",
       "      <td>52.32</td>\n",
       "      <td>74.59</td>\n",
       "    </tr>\n",
       "    <tr>\n",
       "      <th>6</th>\n",
       "      <td>64.35</td>\n",
       "      <td>55.16</td>\n",
       "      <td>69.49</td>\n",
       "    </tr>\n",
       "    <tr>\n",
       "      <th>8</th>\n",
       "      <td>63.83</td>\n",
       "      <td>55.52</td>\n",
       "      <td>72.41</td>\n",
       "    </tr>\n",
       "    <tr>\n",
       "      <th>10</th>\n",
       "      <td>63.51</td>\n",
       "      <td>57.15</td>\n",
       "      <td>69.45</td>\n",
       "    </tr>\n",
       "    <tr>\n",
       "      <th>15</th>\n",
       "      <td>58.11</td>\n",
       "      <td>58.51</td>\n",
       "      <td>72.92</td>\n",
       "    </tr>\n",
       "    <tr>\n",
       "      <th>20</th>\n",
       "      <td>59.08</td>\n",
       "      <td>56.80</td>\n",
       "      <td>87.78</td>\n",
       "    </tr>\n",
       "    <tr>\n",
       "      <th>25</th>\n",
       "      <td>59.08</td>\n",
       "      <td>58.55</td>\n",
       "      <td>86.99</td>\n",
       "    </tr>\n",
       "    <tr>\n",
       "      <th>30</th>\n",
       "      <td>59.08</td>\n",
       "      <td>58.15</td>\n",
       "      <td>80.44</td>\n",
       "    </tr>\n",
       "    <tr>\n",
       "      <th>35</th>\n",
       "      <td>59.08</td>\n",
       "      <td>56.62</td>\n",
       "      <td>84.23</td>\n",
       "    </tr>\n",
       "  </tbody>\n",
       "</table>\n",
       "</div>"
      ],
      "text/plain": [
       "                  sha    aes  coremark\n",
       "Configuration                         \n",
       "1              100.00  93.45     98.56\n",
       "2               66.21  58.02     82.57\n",
       "4               65.26  52.32     74.59\n",
       "6               64.35  55.16     69.49\n",
       "8               63.83  55.52     72.41\n",
       "10              63.51  57.15     69.45\n",
       "15              58.11  58.51     72.92\n",
       "20              59.08  56.80     87.78\n",
       "25              59.08  58.55     86.99\n",
       "30              59.08  58.15     80.44\n",
       "35              59.08  56.62     84.23"
      ]
     },
     "execution_count": 9,
     "metadata": {},
     "output_type": "execute_result"
    }
   ],
   "source": [
    "dfp['Overhead']\n",
    "#df['sha']"
   ]
  },
  {
   "cell_type": "code",
   "execution_count": 10,
   "id": "yellow-mailman",
   "metadata": {},
   "outputs": [],
   "source": [
    "# For the mean lines\n",
    "dfp['OverheadMean'] = dfp['Overhead'].T.mean()\n",
    "dfp['CyclesMean'] = dfp['Cycles'].T.mean()\n",
    "dfp['ExecutionMean'] = dfp['Execution'].T.mean()\n",
    "dfp['CheckpointsMean'] = dfp['Checkpoints'].T.mean()\n",
    "dfp['IR-checkpointsMean'] = dfp['IR-checkpoints'].T.mean()\n",
    "dfp['Spill-checkpointsMean'] = dfp['Spill-checkpoints'].T.mean()"
   ]
  },
  {
   "cell_type": "code",
   "execution_count": 27,
   "id": "familiar-aircraft",
   "metadata": {},
   "outputs": [
    {
     "data": {
      "image/png": "[encoded data removed]",
      "text/plain": [
       "<Figure size 432x288 with 2 Axes>"
      ]
     },
     "metadata": {
      "needs_background": "light"
     },
     "output_type": "display_data"
    }
   ],
   "source": [
    "#fig, ax1 = plt.subplots( figsize=(6,4))\n",
    "fig, (ax1, ax2) = plt.subplots(2, 1, sharex=True, figsize=(6,4), gridspec_kw={'height_ratios': [5, 3]})\n",
    "plt.subplots_adjust(hspace=0.1)\n",
    "\n",
    "\n",
    "colors = [Color['blue'], Color['orange'], Color['magenta']]\n",
    "\n",
    "# Make better labels\n",
    "labels = []\n",
    "for config in Configurations:\n",
    "    labels.append(int(re.search('loop-unroll-(.+)', config)[1]))\n",
    "\n",
    "linewidth = 1\n",
    "markersize = 5\n",
    "alpha=0.8\n",
    "#dfp['Checkpoints'].plot(ax=ax1, linestyle='dashed', marker='x', markersize=markersize, linewidth=linewidth, color=colors, legend=None)\n",
    "dfp['IR-checkpoints'].plot(ax=ax1, linestyle='solid', alpha=alpha, linewidth=linewidth, color=colors, legend=None)\n",
    "dfp['Spill-checkpoints'].plot(ax=ax1, linestyle='dashed', alpha=alpha, linewidth=linewidth, color=colors, legend=None)\n",
    "\n",
    "dfp['IR-checkpointsMean'].plot(ax=ax1, color='black', linestyle='solid', legend=None)\n",
    "dfp['Spill-checkpointsMean'].plot(ax=ax1, color='black', linestyle='dashed', legend=None)\n",
    "\n",
    "ax1.set_ylim(0,100)\n",
    "\n",
    "# Use cycles\n",
    "#dfp['Cycles'].plot(ax=ax2, linestyle='dashdot', alpha=alpha, linewidth=linewidth, color=colors, legend=None)\n",
    "#dfp['CyclesMean'].plot(ax=ax2, linestyle='dashdot', color='black', legend=None)\n",
    "#ax2.set_ylim(50, 100)\n",
    "#ax2.set_ylabel('execution time (\\%)')\n",
    "\n",
    "# Use execution\n",
    "#dfp['Execution'].plot(ax=ax2, linestyle='dashdot', alpha=alpha, linewidth=linewidth, color=colors, legend=None)\n",
    "#dfp['ExecutionMean'].plot(ax=ax2, linestyle='dashdot', color='black', legend=None)\n",
    "#ax2.set_ylim(1, 3.5)\n",
    "#ax2.set_ylabel('norm. execution time')\n",
    "\n",
    "# Use overhead\n",
    "dfp['Overhead'].plot(ax=ax2, linestyle='dashdot', alpha=alpha, linewidth=linewidth, color=colors, legend=None)\n",
    "dfp['OverheadMean'].plot(ax=ax2, linestyle='dashdot', color='black', legend=None)\n",
    "ax2.set_ylim(0, 100)\n",
    "ax2.set_ylabel('overhead (\\%)')\n",
    "\n",
    "ytics = np.arange(0, 100, 10)\n",
    "\n",
    "ax1.set_xlim(1,35)\n",
    "ax1.set_xticks(labels)\n",
    "ax1.minorticks_off()\n",
    "\n",
    "ax1.grid(axis=\"x\", alpha=0.2)\n",
    "ax2.grid(axis=\"x\", alpha=0.2)\n",
    "\n",
    "#ax1.xaxis.set_tick_params(which='both', labelbottom=True)\n",
    "\n",
    "# Build the legend\n",
    "handles = []\n",
    "for idx, bench in enumerate(Benchmarks):\n",
    "    handles.append(Line2D([], [], color=colors[idx], linestyle='solid', label=BenchmarkNameMap[bench]+' \\\\textit{middle end}'))\n",
    "handles.append(Line2D([], [], color='black', linestyle='solid', label='average \\\\textit{middle end}'))\n",
    "\n",
    "for idx, bench in enumerate(Benchmarks):\n",
    "    handles.append(Line2D([], [], color=colors[idx], linestyle='dashed', label=BenchmarkNameMap[bench]+' \\\\textit{back end}'))\n",
    "handles.append(Line2D([], [], color='black', linestyle='dashed', label='average \\\\textit{back end}'))\n",
    "\n",
    "\n",
    "#ax1.legend(handles=handles, bbox_to_anchor=(0, 1.0, 1, 0), loc=\"lower left\", mode='expand', ncol=4)\n",
    "ax1.legend(handles=handles, ncol=2, loc=\"upper right\", fontsize=10)\n",
    "\n",
    "handles = []\n",
    "for idx, bench in enumerate(Benchmarks):\n",
    "    handles.append(Line2D([], [], color=colors[idx], linestyle='dashdot', label=BenchmarkNameMap[bench]+' \\\\textit{execution time}'))\n",
    "handles.append(Line2D([], [], color='black', linestyle='dashdot', label='average \\\\textit{execution time}'))\n",
    "ax2.legend(handles=handles, ncol=2, loc=\"lower right\", fontsize=10)\n",
    "\n",
    "# Hide the right and top spines\n",
    "ax1.spines['right'].set_visible(False)\n",
    "ax1.spines['top'].set_visible(False)\n",
    "ax2.spines['right'].set_visible(False)\n",
    "ax2.spines['top'].set_visible(False)\n",
    "\n",
    "# Add the labels    \n",
    "plt.xlabel(r'loop write clusterer unroll factor $N$')\n",
    "ax1.set_ylabel('checkpoints (\\%)')\n",
    "\n",
    "plt.show()"
   ]
  },
  {
   "cell_type": "code",
   "execution_count": 28,
   "id": "grave-brave",
   "metadata": {},
   "outputs": [],
   "source": [
    "# Save the figure\n",
    "fig.savefig('plots/benchmark-unroll-effect.pdf', bbox_inches='tight')"
   ]
  },
  {
   "cell_type": "code",
   "execution_count": null,
   "id": "sufficient-editing",
   "metadata": {},
   "outputs": [],
   "source": [
    "\n"
   ]
  },
  {
   "cell_type": "code",
   "execution_count": 571,
   "id": "decreased-interaction",
   "metadata": {},
   "outputs": [
    {
     "name": "stdout",
     "output_type": "stream",
     "text": [
      "First step: 30.638146491444232\n",
      "Est. total loop checkpoints: 61.276292982888464\n",
      "Est. base checkpoint cost: 17.56939227463151\n"
     ]
    },
    {
     "data": {
      "text/plain": [
       "[<matplotlib.lines.Line2D at 0x7fe22da651c0>]"
      ]
     },
     "execution_count": 571,
     "metadata": {},
     "output_type": "execute_result"
    },
    {
     "data": {
      "image/png": "[encoded data removed]",
      "text/plain": [
       "<Figure size 432x288 with 1 Axes>"
      ]
     },
     "metadata": {
      "needs_background": "light"
     },
     "output_type": "display_data"
    }
   ],
   "source": [
    "Entry='IR-checkpointsMean'\n",
    "\n",
    "first_step = dfp[Entry][1]-dfp[Entry][2]\n",
    "print('First step:',first_step)\n",
    "\n",
    "# Guess the total loop checkpoints\n",
    "TotalLoopCP = 2*first_step\n",
    "BaseCostCP =  dfp[Entry][1]-TotalLoopCP\n",
    "print('Est. total loop checkpoints:', TotalLoopCP)\n",
    "print('Est. base checkpoint cost:', BaseCostCP)\n",
    "\n",
    "L = []\n",
    "for i in range(1,35):\n",
    "    C = TotalLoopCP/(i)\n",
    "    L.append(C+BaseCostCP)\n",
    "\n",
    "fig, ax = plt.subplots()\n",
    "\n",
    "dfp[Entry].plot(ax=ax, alpha=0.5, marker='x')\n",
    "ax.plot(range(1,len(L)+1), L, alpha=0.5)\n"
   ]
  },
  {
   "cell_type": "code",
   "execution_count": 548,
   "id": "atmospheric-french",
   "metadata": {},
   "outputs": [
    {
     "data": {
      "text/plain": [
       "56.35145730554257"
      ]
     },
     "execution_count": 548,
     "metadata": {},
     "output_type": "execute_result"
    }
   ],
   "source": [
    "L[3]"
   ]
  },
  {
   "cell_type": "code",
   "execution_count": 521,
   "id": "dried-study",
   "metadata": {},
   "outputs": [
    {
     "data": {
      "text/plain": [
       "80.68512314560694"
      ]
     },
     "execution_count": 521,
     "metadata": {},
     "output_type": "execute_result"
    }
   ],
   "source": [
    "dfp['CyclesMean'][4]"
   ]
  },
  {
   "cell_type": "code",
   "execution_count": 455,
   "id": "perceived-choice",
   "metadata": {},
   "outputs": [
    {
     "data": {
      "text/plain": [
       "[<matplotlib.lines.Line2D at 0x7fe22ebe6610>]"
      ]
     },
     "execution_count": 455,
     "metadata": {},
     "output_type": "execute_result"
    },
    {
     "data": {
      "image/png": "[encoded data removed]",
      "text/plain": [
       "<Figure size 432x288 with 1 Axes>"
      ]
     },
     "metadata": {
      "needs_background": "light"
     },
     "output_type": "display_data"
    }
   ],
   "source": [
    "W = 100\n",
    "\n",
    "L = []\n",
    "for i in range(1,35):\n",
    "    C = W/i\n",
    "    #print('Unroll',i, 'has:', C)\n",
    "    L.append(C)\n",
    "\n",
    "fig, ax = plt.subplots()\n",
    "ax.plot(L)"
   ]
  },
  {
   "cell_type": "code",
   "execution_count": null,
   "id": "mighty-milton",
   "metadata": {},
   "outputs": [],
   "source": []
  }
 ],
 "metadata": {
  "kernelspec": {
   "display_name": "Python 3",
   "language": "python",
   "name": "python3"
  },
  "language_info": {
   "codemirror_mode": {
    "name": "ipython",
    "version": 3
   },
   "file_extension": ".py",
   "mimetype": "text/x-python",
   "name": "python",
   "nbconvert_exporter": "python",
   "pygments_lexer": "ipython3",
   "version": "3.9.7"
  }
 },
 "nbformat": 4,
 "nbformat_minor": 5
}
