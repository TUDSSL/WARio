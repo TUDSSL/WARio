{
 "cells": [
  {
   "cell_type": "code",
   "execution_count": 4,
   "id": "relevant-syracuse",
   "metadata": {},
   "outputs": [],
   "source": [
    "%load_ext autoreload\n",
    "%autoreload 2"
   ]
  },
  {
   "cell_type": "code",
   "execution_count": 5,
   "id": "unexpected-scale",
   "metadata": {},
   "outputs": [],
   "source": [
    "#%matplotlib widget\n",
    "import matplotlib.pyplot as plt\n",
    "import pandas as pd\n",
    "import numpy as np\n",
    "from Color import *"
   ]
  },
  {
   "cell_type": "code",
   "execution_count": 71,
   "id": "former-advance",
   "metadata": {},
   "outputs": [
    {
     "data": {
      "text/plain": [
       "(array([  9.,  30.,  70., 113., 161., 113.,  67.,  30.,   5.,   1.]),\n",
       " array([ 8.55196385,  8.87043579,  9.18890774,  9.50737968,  9.82585163,\n",
       "        10.14432357, 10.46279552, 10.78126746, 11.09973941, 11.41821136,\n",
       "        11.7366833 ]),\n",
       " <BarContainer object of 10 artists>)"
      ]
     },
     "execution_count": 71,
     "metadata": {},
     "output_type": "execute_result"
    },
    {
     "data": {
      "image/png": "[encoded data removed]",
      "text/plain": [
       "<Figure size 432x288 with 1 Axes>"
      ]
     },
     "metadata": {
      "needs_background": "light"
     },
     "output_type": "display_data"
    }
   ],
   "source": [
    "P = []\n",
    "\n",
    "for i in range(1,600):\n",
    "    P.append(np.random.normal(10, 0.5))\n",
    "    \n",
    "fig, ax = plt.subplots()\n",
    "ax.hist(P)"
   ]
  },
  {
   "cell_type": "code",
   "execution_count": null,
   "id": "timely-hurricane",
   "metadata": {},
   "outputs": [],
   "source": []
  },
  {
   "cell_type": "code",
   "execution_count": 91,
   "id": "textile-armenia",
   "metadata": {},
   "outputs": [
    {
     "data": {
      "text/plain": [
       "3359"
      ]
     },
     "execution_count": 91,
     "metadata": {},
     "output_type": "execute_result"
    }
   ],
   "source": [
    "ip = 0x030a0a15\n",
    "\n",
    "ip%(pow(2,16)-1)"
   ]
  },
  {
   "cell_type": "code",
   "execution_count": null,
   "id": "hundred-ivory",
   "metadata": {},
   "outputs": [],
   "source": []
  }
 ],
 "metadata": {
  "kernelspec": {
   "display_name": "Python 3",
   "language": "python",
   "name": "python3"
  },
  "language_info": {
   "codemirror_mode": {
    "name": "ipython",
    "version": 3
   },
   "file_extension": ".py",
   "mimetype": "text/x-python",
   "name": "python",
   "nbconvert_exporter": "python",
   "pygments_lexer": "ipython3",
   "version": "3.9.7"
  }
 },
 "nbformat": 4,
 "nbformat_minor": 5
}
