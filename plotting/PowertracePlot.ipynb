{
 "cells": [
  {
   "cell_type": "code",
   "execution_count": 1,
   "id": "invisible-ministry",
   "metadata": {},
   "outputs": [],
   "source": [
    "%load_ext autoreload\n",
    "%autoreload 2"
   ]
  },
  {
   "cell_type": "code",
   "execution_count": 2,
   "id": "incorporate-reunion",
   "metadata": {},
   "outputs": [],
   "source": [
    "import matplotlib.pyplot as plt\n",
    "import pandas as pd\n",
    "import numpy as np\n",
    "from Color import *\n",
    "\n",
    "# Matplotlib font configuration\n",
    "from MatplotlibFonts import *\n",
    "\n",
    "# Change the font size\n",
    "rcParams.update({\"font.size\": 11})"
   ]
  },
  {
   "cell_type": "code",
   "execution_count": 3,
   "id": "complimentary-longitude",
   "metadata": {},
   "outputs": [],
   "source": [
    "RESULT_DIR='../benchmarks/results-powertrace'"
   ]
  },
  {
   "cell_type": "code",
   "execution_count": 4,
   "id": "simplified-rachel",
   "metadata": {},
   "outputs": [],
   "source": [
    "# Benchmarks in order\n",
    "Benchmarks = [\n",
    "    'coremark',\n",
    "    'sha',\n",
    "    'crc',\n",
    "    'aes',\n",
    "    'dijkstra',\n",
    "    'picojpeg'\n",
    "]"
   ]
  },
  {
   "cell_type": "code",
   "execution_count": 5,
   "id": "decreased-authentication",
   "metadata": {},
   "outputs": [
    {
     "name": "stdout",
     "output_type": "stream",
     "text": [
      "Loading file: ../benchmarks/results-powertrace/coremark/powertrace-stats.csv\n",
      "Loading file: ../benchmarks/results-powertrace/sha/powertrace-stats.csv\n",
      "Loading file: ../benchmarks/results-powertrace/crc/powertrace-stats.csv\n",
      "Loading file: ../benchmarks/results-powertrace/aes/powertrace-stats.csv\n",
      "Loading file: ../benchmarks/results-powertrace/dijkstra/powertrace-stats.csv\n",
      "Loading file: ../benchmarks/results-powertrace/picojpeg/powertrace-stats.csv\n"
     ]
    }
   ],
   "source": [
    "df = {}\n",
    "\n",
    "Names=['on-time', 'stdev', 'cycles', 'power-failures']\n",
    "def load_benchmark(bench):\n",
    "    file = RESULT_DIR + '/' + bench + '/powertrace-stats.csv'\n",
    "    print('Loading file: ' + file)\n",
    "    return pd.read_csv(file, names=Names)\n",
    "\n",
    "for bench in Benchmarks:\n",
    "    df[bench] = load_benchmark(bench).groupby('on-time').mean()\n",
    "    df[bench]['exec'] = df[bench]['cycles'] / df[bench].loc[0]['cycles']\n",
    "    df[bench] = df[bench].reset_index()\n",
    "\n",
    "     "
   ]
  },
  {
   "cell_type": "code",
   "execution_count": null,
   "id": "extra-simulation",
   "metadata": {},
   "outputs": [],
   "source": []
  },
  {
   "cell_type": "code",
   "execution_count": 40,
   "id": "protecting-breath",
   "metadata": {},
   "outputs": [
    {
     "data": {
      "text/html": [
       "<div>\n",
       "<style scoped>\n",
       "    .dataframe tbody tr th:only-of-type {\n",
       "        vertical-align: middle;\n",
       "    }\n",
       "\n",
       "    .dataframe tbody tr th {\n",
       "        vertical-align: top;\n",
       "    }\n",
       "\n",
       "    .dataframe thead th {\n",
       "        text-align: right;\n",
       "    }\n",
       "</style>\n",
       "<table border=\"1\" class=\"dataframe\">\n",
       "  <thead>\n",
       "    <tr style=\"text-align: right;\">\n",
       "      <th></th>\n",
       "      <th>on-time</th>\n",
       "      <th>stdev</th>\n",
       "      <th>cycles</th>\n",
       "      <th>power-failures</th>\n",
       "      <th>exec</th>\n",
       "    </tr>\n",
       "  </thead>\n",
       "  <tbody>\n",
       "    <tr>\n",
       "      <th>0</th>\n",
       "      <td>0</td>\n",
       "      <td>1000.0</td>\n",
       "      <td>6270699.0</td>\n",
       "      <td>0.0</td>\n",
       "      <td>1.000000</td>\n",
       "    </tr>\n",
       "    <tr>\n",
       "      <th>1</th>\n",
       "      <td>50000</td>\n",
       "      <td>1000.0</td>\n",
       "      <td>6295037.0</td>\n",
       "      <td>125.0</td>\n",
       "      <td>1.003881</td>\n",
       "    </tr>\n",
       "    <tr>\n",
       "      <th>2</th>\n",
       "      <td>100000</td>\n",
       "      <td>1000.0</td>\n",
       "      <td>6294592.0</td>\n",
       "      <td>62.0</td>\n",
       "      <td>1.003810</td>\n",
       "    </tr>\n",
       "    <tr>\n",
       "      <th>3</th>\n",
       "      <td>200000</td>\n",
       "      <td>1000.0</td>\n",
       "      <td>6274351.0</td>\n",
       "      <td>31.0</td>\n",
       "      <td>1.000582</td>\n",
       "    </tr>\n",
       "    <tr>\n",
       "      <th>4</th>\n",
       "      <td>500000</td>\n",
       "      <td>1000.0</td>\n",
       "      <td>6272258.0</td>\n",
       "      <td>12.0</td>\n",
       "      <td>1.000249</td>\n",
       "    </tr>\n",
       "    <tr>\n",
       "      <th>5</th>\n",
       "      <td>1000000</td>\n",
       "      <td>1000.0</td>\n",
       "      <td>6272027.0</td>\n",
       "      <td>6.0</td>\n",
       "      <td>1.000212</td>\n",
       "    </tr>\n",
       "    <tr>\n",
       "      <th>6</th>\n",
       "      <td>2000000</td>\n",
       "      <td>1000.0</td>\n",
       "      <td>6271616.0</td>\n",
       "      <td>3.0</td>\n",
       "      <td>1.000146</td>\n",
       "    </tr>\n",
       "    <tr>\n",
       "      <th>7</th>\n",
       "      <td>5000000</td>\n",
       "      <td>1000.0</td>\n",
       "      <td>6270798.0</td>\n",
       "      <td>1.0</td>\n",
       "      <td>1.000016</td>\n",
       "    </tr>\n",
       "    <tr>\n",
       "      <th>8</th>\n",
       "      <td>10000000</td>\n",
       "      <td>1000.0</td>\n",
       "      <td>6270699.0</td>\n",
       "      <td>0.0</td>\n",
       "      <td>1.000000</td>\n",
       "    </tr>\n",
       "    <tr>\n",
       "      <th>9</th>\n",
       "      <td>20000000</td>\n",
       "      <td>1000.0</td>\n",
       "      <td>6270699.0</td>\n",
       "      <td>0.0</td>\n",
       "      <td>1.000000</td>\n",
       "    </tr>\n",
       "    <tr>\n",
       "      <th>10</th>\n",
       "      <td>50000000</td>\n",
       "      <td>1000.0</td>\n",
       "      <td>6270699.0</td>\n",
       "      <td>0.0</td>\n",
       "      <td>1.000000</td>\n",
       "    </tr>\n",
       "  </tbody>\n",
       "</table>\n",
       "</div>"
      ],
      "text/plain": [
       "     on-time   stdev     cycles  power-failures      exec\n",
       "0          0  1000.0  6270699.0             0.0  1.000000\n",
       "1      50000  1000.0  6295037.0           125.0  1.003881\n",
       "2     100000  1000.0  6294592.0            62.0  1.003810\n",
       "3     200000  1000.0  6274351.0            31.0  1.000582\n",
       "4     500000  1000.0  6272258.0            12.0  1.000249\n",
       "5    1000000  1000.0  6272027.0             6.0  1.000212\n",
       "6    2000000  1000.0  6271616.0             3.0  1.000146\n",
       "7    5000000  1000.0  6270798.0             1.0  1.000016\n",
       "8   10000000  1000.0  6270699.0             0.0  1.000000\n",
       "9   20000000  1000.0  6270699.0             0.0  1.000000\n",
       "10  50000000  1000.0  6270699.0             0.0  1.000000"
      ]
     },
     "execution_count": 40,
     "metadata": {},
     "output_type": "execute_result"
    }
   ],
   "source": [
    "df['coremark']"
   ]
  },
  {
   "cell_type": "code",
   "execution_count": 95,
   "id": "average-superior",
   "metadata": {},
   "outputs": [
    {
     "name": "stdout",
     "output_type": "stream",
     "text": [
      "% table automatically generated by PowertracePlot.ipynb\n",
      "\\begin{tabular}{@{}lllrrrrrrrrrrrr@{}}\n",
      "\\toprule\n",
      "\\multicolumn{3}{l}{} & \\multicolumn{2}{c}{\\textbf{coremark}} & \\multicolumn{2}{c}{\\textbf{sha}} & \\multicolumn{2}{c}{\\textbf{crc}} & \\multicolumn{2}{c}{\\textbf{aes}} & \\multicolumn{2}{c}{\\textbf{dijkstra}} & \\multicolumn{2}{c}{\\textbf{picojpeg}} \\\\ \\midrule\n",
      "\\textbf{on-cycles} & \\textbf{@8MHz} & \\multicolumn{1}{l|}{\\textbf{@50MHz}} & \\textbf{overh} & \\textbf{pfail} & \\textbf{overh} & \\textbf{pfail} & \\textbf{overh} & \\textbf{pfail} & \\textbf{overh} & \\textbf{pfail} & \\textbf{overh} & \\textbf{pfail} & \\textbf{overh} & \\textbf{pfail} \\\\\n",
      "$50000$ & $6.2\\mskip\\thinmuskip$ms & \\multicolumn{1}{l|}{$1\\mskip\\thinmuskip$ms}  & 0.39\\% & 125 & 2.87\\% & 380 & 7.26\\% & 1 & 0.29\\% & 7 & 1.70\\% & 1135 & 0.17\\% & 2924 \\\\\n",
      "$100000$ & $12.5\\mskip\\thinmuskip$ms & \\multicolumn{1}{l|}{$2\\mskip\\thinmuskip$ms}  & 0.38\\% & 62 & 2.87\\% & 190 & 0.00\\% & 0 & 0.08\\% & 3 & 0.86\\% & 563 & 0.09\\% & 1461 \\\\\n",
      "$500000$ & $62.5\\mskip\\thinmuskip$ms & \\multicolumn{1}{l|}{$10\\mskip\\thinmuskip$ms}  & 0.02\\% & 12 & 2.86\\% & 38 & 0.00\\% & 0 & 0.00\\% & 0 & 0.18\\% & 111 & 0.02\\% & 292 \\\\\n",
      "$1000000$ & $125\\mskip\\thinmuskip$ms & \\multicolumn{1}{l|}{$20\\mskip\\thinmuskip$ms}  & 0.02\\% & 6 & 2.78\\% & 19 & 0.00\\% & 0 & 0.00\\% & 0 & 0.07\\% & 55 & 0.01\\% & 146 \\\\\n",
      "$5000000$ & $625\\mskip\\thinmuskip$ms & \\multicolumn{1}{l|}{$100\\mskip\\thinmuskip$ms}  & 0.00\\% & 1 & 0.00\\% & 3 & 0.00\\% & 0 & 0.00\\% & 0 & 0.02\\% & 11 & 0.00\\% & 29 \\\\\n",
      "$10000000$ & $1250\\mskip\\thinmuskip$ms & \\multicolumn{1}{l|}{$200\\mskip\\thinmuskip$ms}  & 0.00\\% & 0 & 0.00\\% & 1 & 0.00\\% & 0 & 0.00\\% & 0 & 0.01\\% & 5 & 0.00\\% & 14 \\\\\n",
      "$50000000$ & $6250\\mskip\\thinmuskip$ms & \\multicolumn{1}{l|}{$1000\\mskip\\thinmuskip$ms}  & 0.00\\% & 0 & 0.00\\% & 0 & 0.00\\% & 0 & 0.00\\% & 0 & 0.00\\% & 1 & 0.00\\% & 2 \\\\\n",
      " \\bottomrule\n",
      "\\end{tabular}\n",
      "\n"
     ]
    }
   ],
   "source": [
    "# Create the latex table holding all the info\n",
    "OnTimes = [\n",
    "#    0, # Cont\n",
    "    50000000,\n",
    "    10000000,\n",
    "    5000000,\n",
    "    1000000,\n",
    "    500000,\n",
    "    100000,\n",
    "    50000,\n",
    "]\n",
    "OnTimes.reverse()\n",
    "\n",
    "tex=''\n",
    "def tex_addl(t):\n",
    "    global tex\n",
    "    tex += t + '\\n'\n",
    "    \n",
    "def tex_add(t):\n",
    "    global tex\n",
    "    tex += t\n",
    "    \n",
    "# Add a group to change the table spacing\n",
    "tex_addl(r'% table automatically generated by PowertracePlot.ipynb')\n",
    "#tex_addl(r'\\begingroup')\n",
    "#tex_addl(r'\\setlength{\\tabcolsep}{4pt} % Default value: 6pt')\n",
    "\n",
    "# Begin the table\n",
    "#tex_addl(r'\\begin{table*}[]')\n",
    "#tex_addl(r'\\centering')\n",
    "#tex_addl(r'\\small')\n",
    "tex_addl(r'\\begin{tabular}{@{}lllrrrrrrrrrrrr@{}}')\n",
    "tex_addl(r'\\toprule')\n",
    "\n",
    "# Add the benchmark headers\n",
    "tex_add(r'\\multicolumn{3}{l}{}')\n",
    "for bench in Benchmarks:\n",
    "    tex_add(r' & \\multicolumn{2}{c}{\\textbf{'+bench+'}}')\n",
    "tex_addl(r' \\\\ \\midrule')\n",
    "\n",
    "# Add the power-fail header\n",
    "tex_add(r'\\textbf{on-cycles} & \\textbf{@8MHz} & \\multicolumn{1}{l|}{\\textbf{@50MHz}}')\n",
    "for bench in Benchmarks:\n",
    "    tex_add(r' & \\textbf{overh} & \\textbf{pfail}')\n",
    "tex_addl(r' \\\\')\n",
    "\n",
    "# Add the actual numbers\n",
    "for ontime in OnTimes:\n",
    "    if ontime == 0:\n",
    "        tex_add(r'\\textit{continuous}')\n",
    "        tex_add(r' & ')\n",
    "        tex_add(r' & \\multicolumn{1}{l|}{} ')\n",
    "    else:\n",
    "        tex_add('$'+str(ontime)+'$')\n",
    "        on_8MHz = ontime/8000\n",
    "        if on_8MHz >= 100.0:\n",
    "            on_8MHz = '${:.0f}'.format(ontime/8000) + r'\\mskip\\thinmuskip$ms'\n",
    "        else:\n",
    "            on_8MHz = '${:.1f}'.format(ontime/8000) + r'\\mskip\\thinmuskip$ms'\n",
    "        on_50MHz = '${:.0f}'.format(ontime/50000) + r'\\mskip\\thinmuskip$ms'\n",
    "        tex_add(r' & '+on_8MHz)\n",
    "        tex_add(r' & \\multicolumn{1}{l|}{'+on_50MHz+'} ')\n",
    "            \n",
    "    for bench in Benchmarks:\n",
    "        exec_val = df[bench].set_index('on-time').loc[ontime]['exec']\n",
    "        pf_val = df[bench].set_index('on-time').loc[ontime]['power-failures']\n",
    "        \n",
    "        exec_val = (exec_val-1)*100\n",
    "        \n",
    "        exec_str = '{:.2f}'.format(exec_val)\n",
    "        tex_add(r' & '+exec_str+'\\%')\n",
    "        tex_add(r' & '+str(int(pf_val)))\n",
    "    tex_addl(r' \\\\')\n",
    "tex_addl(r' \\bottomrule')\n",
    "\n",
    "# End the table\n",
    "tex_addl(r'\\end{tabular}')\n",
    "#tex_addl(r'\\end{table*}')\n",
    "\n",
    "# End the group\n",
    "#tex_addl(r'\\endgroup')\n",
    "\n",
    "print(tex)\n",
    "\n",
    "# Save the table\n",
    "with open('plots/powertrace-table.tex', \"w\") as f:\n",
    "    # Writing data to a file\n",
    "    f.write(tex)"
   ]
  },
  {
   "cell_type": "code",
   "execution_count": 72,
   "id": "adopted-incident",
   "metadata": {},
   "outputs": [
    {
     "name": "stdout",
     "output_type": "stream",
     "text": [
      "Labels: ['50', '100', '200', '500', '1000', '2000', '5000', '10000', '20000', '50000']\n",
      "Xticks: [0, 1, 2, 3, 4, 5, 6, 7, 8, 9]\n"
     ]
    }
   ],
   "source": [
    "xlabel_div = 1000\n",
    "\n",
    "xlabels = [str(int(x/xlabel_div)) for x in df['crc']['on-time']][1:]\n",
    "xticks = list(range(0,len(xlabels),1))\n",
    "#df['crc']['cycles'].plot(x=xlabels)\n",
    "print('Labels:', xlabels)\n",
    "print('Xticks:', xticks)"
   ]
  },
  {
   "cell_type": "code",
   "execution_count": 13,
   "id": "portable-classic",
   "metadata": {},
   "outputs": [
    {
     "data": {
      "text/plain": [
       "Text(0, 0.5, 'power-failures')"
      ]
     },
     "execution_count": 13,
     "metadata": {},
     "output_type": "execute_result"
    },
    {
     "data": {
      "image/png": "[encoded data removed]",
      "text/plain": [
       "<Figure size 216x216 with 2 Axes>"
      ]
     },
     "metadata": {
      "needs_background": "light"
     },
     "output_type": "display_data"
    }
   ],
   "source": [
    "fig, ax = plt.subplots(1, 1, figsize=(3,3))\n",
    "\n",
    "#for bench in Benchmarks:\n",
    "#    data = list(df[bench]['exec'][1:])\n",
    "#    ax.plot(xticks, data)\n",
    "\n",
    "ax.set_xticks(xticks)\n",
    "ax.set_xticklabels(xlabels)\n",
    "plt.xticks(rotation=45)\n",
    "\n",
    "ax2 = ax.twinx()\n",
    "\n",
    "data = list(df['coremark']['exec'][1:])\n",
    "powerfail = list(df['coremark']['power-failures'][1:])\n",
    "ax.bar(xticks, data, 0.8, color=Color['cyan'])\n",
    "ax2.plot(xticks, powerfail, linestyle='', marker='x', color='red')\n",
    "\n",
    "ax.set_ylim(0, 1.1)\n",
    "\n",
    "#ax.spines['right'].set_visible(False)\n",
    "ax.spines['top'].set_visible(False)\n",
    "#ax2.spines['right'].set_visible(False)\n",
    "ax2.spines['top'].set_visible(False)\n",
    "\n",
    "ax.set_title('coremark')\n",
    "ax.set_xlabel('on-time in cycles x'+str(xlabel_div))\n",
    "ax.set_ylabel('normalized execution time')\n",
    "ax2.set_ylabel('power-failures')"
   ]
  },
  {
   "cell_type": "code",
   "execution_count": 9,
   "id": "broken-nature",
   "metadata": {},
   "outputs": [
    {
     "data": {
      "image/png": "[encoded data removed]",
      "text/plain": [
       "<Figure size 288x288 with 7 Axes>"
      ]
     },
     "metadata": {
      "needs_background": "light"
     },
     "output_type": "display_data"
    }
   ],
   "source": [
    "fig, axs = plt.subplots(3, 2, figsize=(4,4))\n",
    "\n",
    "\n",
    "def plot_bench(bench, x, y):\n",
    "    ax = axs[x,y]\n",
    "    ax.set_xticks(xticks)\n",
    "    ax.set_xticklabels(xlabels, rotation=45)\n",
    "\n",
    "    ax2 = ax.twinx()\n",
    "\n",
    "    data = list(df['crc']['exec'][1:])\n",
    "    powerfail = list(df['coremark']['power-failures'][1:])\n",
    "    ax.bar(xticks, data, 0.8, color=Color['cyan'])\n",
    "    ax2.plot(xticks, powerfail, linestyle='', marker='x', color='red')\n",
    "\n",
    "    ax.set_ylim(0, 1.1)\n",
    "\n",
    "    #ax.spines['right'].set_visible(False)\n",
    "    ax.spines['top'].set_visible(False)\n",
    "    #ax2.spines['right'].set_visible(False)\n",
    "    ax2.spines['top'].set_visible(False)\n",
    "\n",
    "\n",
    "    ax.set_title('crc')\n",
    "\n",
    "    \n",
    "plot_bench('crc', 0, 0)\n",
    "\n",
    "#ax.set_xlabel('on-time in cycles x'+str(xlabel_div))\n",
    "#ax.set_ylabel('normalized execution time')\n",
    "#ax2.set_ylabel('power-failures')"
   ]
  },
  {
   "cell_type": "code",
   "execution_count": null,
   "id": "included-record",
   "metadata": {},
   "outputs": [],
   "source": []
  }
 ],
 "metadata": {
  "kernelspec": {
   "display_name": "Python 3",
   "language": "python",
   "name": "python3"
  },
  "language_info": {
   "codemirror_mode": {
    "name": "ipython",
    "version": 3
   },
   "file_extension": ".py",
   "mimetype": "text/x-python",
   "name": "python",
   "nbconvert_exporter": "python",
   "pygments_lexer": "ipython3",
   "version": "3.9.7"
  }
 },
 "nbformat": 4,
 "nbformat_minor": 5
}
